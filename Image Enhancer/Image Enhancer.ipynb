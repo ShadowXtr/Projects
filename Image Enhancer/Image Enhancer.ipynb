{
 "cells": [
  {
   "cell_type": "code",
   "execution_count": 1,
   "metadata": {},
   "outputs": [],
   "source": [
    "from PIL import Image"
   ]
  },
  {
   "cell_type": "code",
   "execution_count": 2,
   "metadata": {},
   "outputs": [],
   "source": [
    "def enhance(file, zoom=3):\n",
    "    im = Image.open(file + '.png', 'r')\n",
    "    \n",
    "    pix_val = list(im.getdata())\n",
    "\n",
    "    C, R = (im.size[0], im.size[1])\n",
    "    conv = Image.new('RGB',(C*zoom, R*zoom))\n",
    "\n",
    "    pixels_list = []\n",
    "    for i in range(R):\n",
    "        for _ in range(zoom):\n",
    "            for j in range(C):\n",
    "                for _ in range(zoom): pixels_list.append(pix_val[C*i + j])\n",
    "\n",
    "    R,C = R*zoom, C*zoom\n",
    "    pixs = []\n",
    "    for i in range(R):\n",
    "        for j in range(C):\n",
    "            if i==0 or j==0 or i==(R-1) or j==(C-1): pixs.append(pixels_list[C*i + j])\n",
    "            else:\n",
    "                r = (pixels_list[C*i + j][0] + pixels_list[C*(i-1) + j][0] + pixels_list[C*(i+1) + j][0] +\n",
    "                pixels_list[C*i + (j+1)][0] + pixels_list[C*(i-1) + (j+1)][0] + pixels_list[C*(i+1) + (j+1)][0] +\n",
    "                pixels_list[C*i + (j-1)][0] + pixels_list[C*(i-1) + (j-1)][0] + pixels_list[C*(i+1) + (j-1)][0])//9\n",
    "\n",
    "                g = (pixels_list[C*i + j][1] + pixels_list[C*(i-1) + j][1] + pixels_list[C*(i+1) + j][1] +\n",
    "                pixels_list[C*i + (j+1)][1] + pixels_list[C*(i-1) + (j+1)][1] + pixels_list[C*(i+1) + (j+1)][1] +\n",
    "                pixels_list[C*i + (j-1)][1] + pixels_list[C*(i-1) + (j-1)][1] + pixels_list[C*(i+1) + (j-1)][1])//9\n",
    "\n",
    "                b = (pixels_list[C*i + j][2] + pixels_list[C*(i-1) + j][2] + pixels_list[C*(i+1) + j][2] +\n",
    "                pixels_list[C*i + (j+1)][2] + pixels_list[C*(i-1) + (j+1)][2] + pixels_list[C*(i+1) + (j+1)][2] +\n",
    "                pixels_list[C*i + (j-1)][2] + pixels_list[C*(i-1) + (j-1)][2] + pixels_list[C*(i+1) + (j-1)][2])//9\n",
    "\n",
    "                pixs.append((r,g,b))\n",
    "\n",
    "    conv.putdata(pixs)\n",
    "    conv.save(file + '-' + str(zoom) + 'x-v2.0.jpg')"
   ]
  },
  {
   "cell_type": "code",
   "execution_count": 5,
   "metadata": {},
   "outputs": [],
   "source": [
    "enhance('galar')"
   ]
  },
  {
   "cell_type": "code",
   "execution_count": null,
   "metadata": {},
   "outputs": [],
   "source": []
  }
 ],
 "metadata": {
  "kernelspec": {
   "display_name": "base",
   "language": "python",
   "name": "python3"
  },
  "language_info": {
   "codemirror_mode": {
    "name": "ipython",
    "version": 3
   },
   "file_extension": ".py",
   "mimetype": "text/x-python",
   "name": "python",
   "nbconvert_exporter": "python",
   "pygments_lexer": "ipython3",
   "version": "3.9.12"
  },
  "vscode": {
   "interpreter": {
    "hash": "cd22bae83bcc3eccba95e8015647f15e910af8cdc143a7b98bb85ccc80927cbd"
   }
  }
 },
 "nbformat": 4,
 "nbformat_minor": 4
}
